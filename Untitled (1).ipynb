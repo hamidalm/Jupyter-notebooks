{
 "cells": [
  {
   "cell_type": "code",
   "execution_count": null,
   "id": "5c9ec0ad",
   "metadata": {},
   "outputs": [
    {
     "name": "stdout",
     "output_type": "stream",
     "text": [
      "A ___ is a sequence of characters surrounded by quotes.\n",
      "string\n",
      "Correct!\n"
     ]
    }
   ],
   "source": [
    "# Define the questions and answers\n",
    "questions = [\n",
    "    \"A ___ is a sequence of characters surrounded by quotes.\\n\",\n",
    "    \"A ___ is a list of elements separated by commas and enclosed in square brackets.\\n\",\n",
    "    \"A ___ is a collection of key-value pairs, enclosed in curly braces.\\n\",\n",
    "    \"A ___ is a conditional statement that repeats a block of code while a condition is true.\\n\",\n",
    "    \"A ___ is a built-in function that returns a sequence of numbers up to a specified limit.\\n\"\n",
    "]\n",
    "\n",
    "answers = [\n",
    "    \"string\",\n",
    "    \"list\",\n",
    "    \"dictionary\",\n",
    "    \"while loop\",\n",
    "    \"range\"\n",
    "]\n",
    "\n",
    "# Ask the user each question and check their answer\n",
    "score = 0\n",
    "for i in range(len(questions)):\n",
    "    user_answer = input(questions[i])\n",
    "    if user_answer.lower() == answers[i]:\n",
    "        print(\"Correct!\")\n",
    "        score += 1\n",
    "    else:\n",
    "        print(\"Incorrect!\")\n",
    "        \n",
    "# Print the final score\n",
    "print(\"You scored\", score, \"out of\", len(questions))\n"
   ]
  },
  {
   "cell_type": "code",
   "execution_count": null,
   "id": "790a6c43",
   "metadata": {},
   "outputs": [],
   "source": []
  }
 ],
 "metadata": {
  "kernelspec": {
   "display_name": "Python 3 (ipykernel)",
   "language": "python",
   "name": "python3"
  },
  "language_info": {
   "codemirror_mode": {
    "name": "ipython",
    "version": 3
   },
   "file_extension": ".py",
   "mimetype": "text/x-python",
   "name": "python",
   "nbconvert_exporter": "python",
   "pygments_lexer": "ipython3",
   "version": "3.10.9"
  }
 },
 "nbformat": 4,
 "nbformat_minor": 5
}
